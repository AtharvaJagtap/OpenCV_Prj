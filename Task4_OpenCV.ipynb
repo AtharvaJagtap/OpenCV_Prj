{
 "cells": [
  {
   "cell_type": "code",
   "execution_count": null,
   "id": "ae4b31e6",
   "metadata": {},
   "outputs": [],
   "source": [
    "import cv2\n",
    "import numpy as np\n",
    "import matplotlib.pyplot as plt"
   ]
  },
  {
   "cell_type": "markdown",
   "id": "4f897a6b",
   "metadata": {},
   "source": [
    "# Task 4.1"
   ]
  },
  {
   "cell_type": "markdown",
   "id": "de2865a9",
   "metadata": {},
   "source": [
    "📌 Create image by yourself using Python code"
   ]
  },
  {
   "cell_type": "code",
   "execution_count": null,
   "id": "ea895c86",
   "metadata": {},
   "outputs": [],
   "source": [
    "image = np.zeros(shape=(300,300,3)).astype('uint8')"
   ]
  },
  {
   "cell_type": "code",
   "execution_count": null,
   "id": "563b74e0",
   "metadata": {},
   "outputs": [],
   "source": [
    "image.shape"
   ]
  },
  {
   "cell_type": "code",
   "execution_count": null,
   "id": "1941532d",
   "metadata": {},
   "outputs": [],
   "source": [
    "image"
   ]
  },
  {
   "cell_type": "code",
   "execution_count": null,
   "id": "3c1f0c07",
   "metadata": {
    "scrolled": true
   },
   "outputs": [],
   "source": [
    "plt.imshow(image)"
   ]
  },
  {
   "cell_type": "code",
   "execution_count": null,
   "id": "0cabcd4f",
   "metadata": {},
   "outputs": [],
   "source": [
    "image[:] = (255,255,0)"
   ]
  },
  {
   "cell_type": "code",
   "execution_count": null,
   "id": "98324c37",
   "metadata": {},
   "outputs": [],
   "source": [
    "image"
   ]
  },
  {
   "cell_type": "code",
   "execution_count": null,
   "id": "262fa472",
   "metadata": {},
   "outputs": [],
   "source": [
    "plt.imshow(image)"
   ]
  },
  {
   "cell_type": "code",
   "execution_count": null,
   "id": "e721e51a",
   "metadata": {},
   "outputs": [],
   "source": [
    "image = cv2.circle(image,(150,150), 130, (0,0,0), -1)"
   ]
  },
  {
   "cell_type": "code",
   "execution_count": null,
   "id": "b88a6c60",
   "metadata": {
    "scrolled": false
   },
   "outputs": [],
   "source": [
    "plt.imshow(image)"
   ]
  },
  {
   "cell_type": "code",
   "execution_count": null,
   "id": "6fa5aa55",
   "metadata": {},
   "outputs": [],
   "source": [
    "plt.imshow(cv2.line(image,(200,200),(100,200),(255,255,0),8))"
   ]
  },
  {
   "cell_type": "code",
   "execution_count": null,
   "id": "e993e4d2",
   "metadata": {},
   "outputs": [],
   "source": [
    "cv2.line(image,(100,100),(60,80),(255,255,0),8);\n",
    "cv2.line(image,(100,100),(60,130),(255,255,0),8);\n",
    "cv2.line(image,(200,100),(240,80),(255,255,0),8);\n",
    "cv2.line(image,(200,100),(240,130),(255,255,0),8);\n",
    "cv2.rectangle(image, (130,200), (170,250), (255,255,0), -1);\n",
    "cv2.circle(image,(150,250), 20, (255,255,0), -1);\n",
    "cv2.line(image,(150,240),(150,210),(0,0,0),8);\n"
   ]
  },
  {
   "cell_type": "code",
   "execution_count": null,
   "id": "dacfc3c6",
   "metadata": {},
   "outputs": [],
   "source": [
    "plt.imshow(image)"
   ]
  },
  {
   "cell_type": "code",
   "execution_count": null,
   "id": "2e8385f1",
   "metadata": {},
   "outputs": [],
   "source": []
  },
  {
   "cell_type": "markdown",
   "id": "13304143",
   "metadata": {},
   "source": [
    "# Task 4.2"
   ]
  },
  {
   "cell_type": "markdown",
   "id": "29ad1886",
   "metadata": {},
   "source": [
    "📌 Take 2 image crop some part of both image and swap it."
   ]
  },
  {
   "cell_type": "code",
   "execution_count": null,
   "id": "b69440b2",
   "metadata": {},
   "outputs": [],
   "source": [
    "image1 = cv2.imread('ironman.jpg')\n",
    "image1 = cv2.cvtColor(image1,cv2.COLOR_BGR2RGB)\n",
    "plt.imshow(image1)\n"
   ]
  },
  {
   "cell_type": "code",
   "execution_count": null,
   "id": "a835beb4",
   "metadata": {},
   "outputs": [],
   "source": [
    "image2 = cv2.imread('spiderman.jpg')\n",
    "image2 = cv2.cvtColor(image2,cv2.COLOR_BGR2RGB)\n",
    "plt.imshow(image2)"
   ]
  },
  {
   "cell_type": "code",
   "execution_count": null,
   "id": "bf4ceb16",
   "metadata": {},
   "outputs": [],
   "source": [
    "image1_crop = image1[0:190,190:340 ,:].copy()\n",
    "plt.imshow(image1_crop)"
   ]
  },
  {
   "cell_type": "code",
   "execution_count": null,
   "id": "6da7d4ba",
   "metadata": {},
   "outputs": [],
   "source": [
    "image2_crop = image2[10:200,170:320,:].copy()\n",
    "plt.imshow(image2_crop)"
   ]
  },
  {
   "cell_type": "code",
   "execution_count": null,
   "id": "2eab4fbc",
   "metadata": {},
   "outputs": [],
   "source": [
    "image1[0:190,190:340 ,:] = image2_crop"
   ]
  },
  {
   "cell_type": "code",
   "execution_count": null,
   "id": "e140f377",
   "metadata": {},
   "outputs": [],
   "source": [
    "plt.imshow(image1)"
   ]
  },
  {
   "cell_type": "code",
   "execution_count": null,
   "id": "b716ce05",
   "metadata": {},
   "outputs": [],
   "source": [
    "image1_crop.shape"
   ]
  },
  {
   "cell_type": "code",
   "execution_count": null,
   "id": "fd929d83",
   "metadata": {},
   "outputs": [],
   "source": [
    "image2[10:200,170:320,:] = image1_crop"
   ]
  },
  {
   "cell_type": "code",
   "execution_count": null,
   "id": "cc580f7f",
   "metadata": {},
   "outputs": [],
   "source": [
    "plt.imshow(image2)"
   ]
  },
  {
   "cell_type": "markdown",
   "id": "b1d3e523",
   "metadata": {},
   "source": [
    "# Task 4.3"
   ]
  },
  {
   "cell_type": "markdown",
   "id": "2f11105d",
   "metadata": {},
   "source": [
    "📌 Take 2 image and combine it to form single image. For example collage"
   ]
  },
  {
   "cell_type": "code",
   "execution_count": null,
   "id": "6f677ba3",
   "metadata": {},
   "outputs": [],
   "source": [
    "combined_image = np.hstack([image1_crop,image2_crop])"
   ]
  },
  {
   "cell_type": "code",
   "execution_count": null,
   "id": "79cd3617",
   "metadata": {},
   "outputs": [],
   "source": [
    "plt.imshow(combined_image)"
   ]
  },
  {
   "cell_type": "code",
   "execution_count": null,
   "id": "efab74cb",
   "metadata": {},
   "outputs": [],
   "source": []
  }
 ],
 "metadata": {
  "kernelspec": {
   "display_name": "Python 3",
   "language": "python",
   "name": "python3"
  },
  "language_info": {
   "codemirror_mode": {
    "name": "ipython",
    "version": 3
   },
   "file_extension": ".py",
   "mimetype": "text/x-python",
   "name": "python",
   "nbconvert_exporter": "python",
   "pygments_lexer": "ipython3",
   "version": "3.8.8"
  }
 },
 "nbformat": 4,
 "nbformat_minor": 5
}
